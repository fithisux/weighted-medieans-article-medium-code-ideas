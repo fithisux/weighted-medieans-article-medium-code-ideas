{
    "metadata": {
        "kernelspec": {
            "name": "SQL",
            "display_name": "SQL",
            "language": "sql"
        },
        "language_info": {
            "name": "sql",
            "version": ""
        }
    },
    "nbformat_minor": 2,
    "nbformat": 4,
    "cells": [
        {
            "cell_type": "markdown",
            "source": [
                "Create a table for experimentation with odd number of entries. It has just prices and units. We also add some sample data."
            ],
            "metadata": {
                "azdata_cell_guid": "8f2be9ec-b4ab-4fad-a577-00ba4d3084eb"
            }
        },
        {
            "cell_type": "markdown",
            "source": [
                ""
            ],
            "metadata": {
                "azdata_cell_guid": "8bf0bfda-44c6-4cfc-9fe0-dfff2ead150c"
            }
        },
        {
            "cell_type": "code",
            "source": [
                "DROP TABLE IF EXISTS MY_EXPERIMENT;\n",
                "\n",
                "CREATE TABLE MY_EXPERIMENT (\n",
                "    price INT\n",
                ");\n",
                "\n",
                "insert into MY_EXPERIMENT(price) values (30);\n",
                "insert into MY_EXPERIMENT(price) values (10);\n",
                "insert into MY_EXPERIMENT(price) values (20);\n",
                "insert into MY_EXPERIMENT(price) values (10);\n",
                "insert into MY_EXPERIMENT(price) values (30);\n",
                "\n",
                "select * FROM MY_EXPERIMENT;"
            ],
            "metadata": {
                "azdata_cell_guid": "f175dd1e-86f4-484c-932d-84e31e08e94a"
            },
            "outputs": [
                {
                    "output_type": "display_data",
                    "data": {
                        "text/html": "Commands completed successfully"
                    },
                    "metadata": {}
                },
                {
                    "output_type": "display_data",
                    "data": {
                        "text/html": "Commands completed successfully"
                    },
                    "metadata": {}
                },
                {
                    "output_type": "display_data",
                    "data": {
                        "text/html": "Commands completed successfully"
                    },
                    "metadata": {}
                },
                {
                    "output_type": "display_data",
                    "data": {
                        "text/html": "Commands completed successfully"
                    },
                    "metadata": {}
                },
                {
                    "output_type": "display_data",
                    "data": {
                        "text/html": "Commands completed successfully"
                    },
                    "metadata": {}
                },
                {
                    "output_type": "display_data",
                    "data": {
                        "text/html": "Commands completed successfully"
                    },
                    "metadata": {}
                },
                {
                    "output_type": "display_data",
                    "data": {
                        "text/html": "Commands completed successfully"
                    },
                    "metadata": {}
                },
                {
                    "output_type": "display_data",
                    "data": {
                        "text/html": "(5 row(s) affected)"
                    },
                    "metadata": {}
                },
                {
                    "output_type": "display_data",
                    "data": {
                        "text/html": "Total execution time: 00:00:00.030"
                    },
                    "metadata": {}
                },
                {
                    "output_type": "execute_result",
                    "metadata": {},
                    "execution_count": 73,
                    "data": {
                        "application/vnd.dataresource+json": {
                            "schema": {
                                "fields": [
                                    {
                                        "name": "price"
                                    }
                                ]
                            },
                            "data": [
                                {
                                    "0": "30"
                                },
                                {
                                    "0": "10"
                                },
                                {
                                    "0": "20"
                                },
                                {
                                    "0": "10"
                                },
                                {
                                    "0": "30"
                                }
                            ]
                        },
                        "text/html": [
                            "<table>",
                            "<tr><th>price</th></tr>",
                            "<tr><td>30</td></tr>",
                            "<tr><td>10</td></tr>",
                            "<tr><td>20</td></tr>",
                            "<tr><td>10</td></tr>",
                            "<tr><td>30</td></tr>",
                            "</table>"
                        ]
                    }
                }
            ],
            "execution_count": 73
        },
        {
            "cell_type": "markdown",
            "source": [
                "Attempt the common trick for median"
            ],
            "metadata": {
                "azdata_cell_guid": "b6d496f2-37dd-4b72-a2c3-ae00df842183"
            }
        },
        {
            "cell_type": "code",
            "source": [
                "select price,  (2 * row_number() over (ORDER BY price asc) - count(*) over ()) as indicator from my_experiment;"
            ],
            "metadata": {
                "azdata_cell_guid": "e6bd845f-feff-41b7-bd8d-8cf6497a3d79"
            },
            "outputs": [
                {
                    "output_type": "display_data",
                    "data": {
                        "text/html": "(5 row(s) affected)"
                    },
                    "metadata": {}
                },
                {
                    "output_type": "display_data",
                    "data": {
                        "text/html": "Total execution time: 00:00:00.010"
                    },
                    "metadata": {}
                },
                {
                    "output_type": "execute_result",
                    "metadata": {},
                    "execution_count": 74,
                    "data": {
                        "application/vnd.dataresource+json": {
                            "schema": {
                                "fields": [
                                    {
                                        "name": "price"
                                    },
                                    {
                                        "name": "indicator"
                                    }
                                ]
                            },
                            "data": [
                                {
                                    "0": "10",
                                    "1": "-3"
                                },
                                {
                                    "0": "10",
                                    "1": "-1"
                                },
                                {
                                    "0": "20",
                                    "1": "1"
                                },
                                {
                                    "0": "30",
                                    "1": "3"
                                },
                                {
                                    "0": "30",
                                    "1": "5"
                                }
                            ]
                        },
                        "text/html": [
                            "<table>",
                            "<tr><th>price</th><th>indicator</th></tr>",
                            "<tr><td>10</td><td>-3</td></tr>",
                            "<tr><td>10</td><td>-1</td></tr>",
                            "<tr><td>20</td><td>1</td></tr>",
                            "<tr><td>30</td><td>3</td></tr>",
                            "<tr><td>30</td><td>5</td></tr>",
                            "</table>"
                        ]
                    }
                }
            ],
            "execution_count": 74
        },
        {
            "cell_type": "markdown",
            "source": [
                "Create a table for experimentation as above but with even number of entries. And reattempt the trick."
            ],
            "metadata": {
                "azdata_cell_guid": "3a3dd448-1bea-478f-9cc2-d8b17ae8bd68"
            }
        },
        {
            "cell_type": "code",
            "source": [
                "truncate MY_EXPERIMENT;\n",
                "\n",
                "insert into MY_EXPERIMENT(price) values (30);\n",
                "insert into MY_EXPERIMENT(price) values (10);\n",
                "insert into MY_EXPERIMENT(price) values (20);\n",
                "insert into MY_EXPERIMENT(price) values (10);\n",
                "insert into MY_EXPERIMENT(price) values (30);\n",
                "insert into MY_EXPERIMENT(price) values (15);\n",
                "\n",
                "select price, (2 * row_number() over (ORDER BY price asc) - count(*) over ()) as indicator from my_experiment;"
            ],
            "metadata": {
                "azdata_cell_guid": "c94f2ac3-b0c1-48a8-8e2f-f8feafd5b45e"
            },
            "outputs": [
                {
                    "output_type": "display_data",
                    "data": {
                        "text/html": "Commands completed successfully"
                    },
                    "metadata": {}
                },
                {
                    "output_type": "display_data",
                    "data": {
                        "text/html": "Commands completed successfully"
                    },
                    "metadata": {}
                },
                {
                    "output_type": "display_data",
                    "data": {
                        "text/html": "Commands completed successfully"
                    },
                    "metadata": {}
                },
                {
                    "output_type": "display_data",
                    "data": {
                        "text/html": "Commands completed successfully"
                    },
                    "metadata": {}
                },
                {
                    "output_type": "display_data",
                    "data": {
                        "text/html": "Commands completed successfully"
                    },
                    "metadata": {}
                },
                {
                    "output_type": "display_data",
                    "data": {
                        "text/html": "Commands completed successfully"
                    },
                    "metadata": {}
                },
                {
                    "output_type": "display_data",
                    "data": {
                        "text/html": "Commands completed successfully"
                    },
                    "metadata": {}
                },
                {
                    "output_type": "display_data",
                    "data": {
                        "text/html": "(6 row(s) affected)"
                    },
                    "metadata": {}
                },
                {
                    "output_type": "display_data",
                    "data": {
                        "text/html": "Total execution time: 00:00:00.027"
                    },
                    "metadata": {}
                },
                {
                    "output_type": "execute_result",
                    "metadata": {},
                    "execution_count": 75,
                    "data": {
                        "application/vnd.dataresource+json": {
                            "schema": {
                                "fields": [
                                    {
                                        "name": "price"
                                    },
                                    {
                                        "name": "indicator"
                                    }
                                ]
                            },
                            "data": [
                                {
                                    "0": "10",
                                    "1": "-4"
                                },
                                {
                                    "0": "10",
                                    "1": "-2"
                                },
                                {
                                    "0": "15",
                                    "1": "0"
                                },
                                {
                                    "0": "20",
                                    "1": "2"
                                },
                                {
                                    "0": "30",
                                    "1": "4"
                                },
                                {
                                    "0": "30",
                                    "1": "6"
                                }
                            ]
                        },
                        "text/html": [
                            "<table>",
                            "<tr><th>price</th><th>indicator</th></tr>",
                            "<tr><td>10</td><td>-4</td></tr>",
                            "<tr><td>10</td><td>-2</td></tr>",
                            "<tr><td>15</td><td>0</td></tr>",
                            "<tr><td>20</td><td>2</td></tr>",
                            "<tr><td>30</td><td>4</td></tr>",
                            "<tr><td>30</td><td>6</td></tr>",
                            "</table>"
                        ]
                    }
                }
            ],
            "execution_count": 75
        },
        {
            "cell_type": "markdown",
            "source": [
                "Our custom made median lower"
            ],
            "metadata": {
                "azdata_cell_guid": "8939e2f2-003f-41db-a2fe-8c918f01e777"
            }
        },
        {
            "cell_type": "code",
            "source": [
                "-- taken from\n",
                "-- https://weblogs.sqlteam.com/peterl/2009/09/16/median-and-weighted-median/\n",
                "-- best\n",
                "\n",
                "CREATE OR REPLACE FUNCTION peso_median() RETURNS FLOAT AS $$\n",
                "DECLARE my_result FLOAT;\n",
                "BEGIN\n",
                "select avg(price) into my_result from (\n",
                "    select price, (2 * row_number() over (ORDER BY price asc) - count(*) over ()) as indicator from my_experiment\n",
                ") f where f.indicator between 0 and 2;\n",
                "\n",
                "RETURN my_result;        \n",
                "END;\n",
                "$$ \n",
                "STABLE\n",
                "LANGUAGE plpgsql;\n",
                "\n",
                "-- inspired from https://en.wikipedia.org/wiki/Percentile#The_nearest-rank_method\n",
                "-- implemented in python baseline\n",
                "--\n",
                "CREATE OR REPLACE FUNCTION nearest_rank(threshold FLOAT) RETURNS FLOAT AS $$\n",
                "DECLARE my_result FLOAT;\n",
                "BEGIN\n",
                "select price into my_result from (\n",
                " select price, ( (count(*) over (ORDER BY price asc))::real / (count(*) over ()) ) as xxx from my_experiment\n",
                ") f where xxx >= threshold limit 1;\n",
                "RETURN my_result;\n",
                "END;\n",
                "$$ \n",
                "STABLE\n",
                "LANGUAGE plpgsql;"
            ],
            "metadata": {
                "azdata_cell_guid": "97f5c9b2-9d7d-489c-8683-8eff0c1d264a"
            },
            "outputs": [
                {
                    "output_type": "display_data",
                    "data": {
                        "text/html": "Commands completed successfully"
                    },
                    "metadata": {}
                },
                {
                    "output_type": "display_data",
                    "data": {
                        "text/html": "Commands completed successfully"
                    },
                    "metadata": {}
                },
                {
                    "output_type": "display_data",
                    "data": {
                        "text/html": "Total execution time: 00:00:00.012"
                    },
                    "metadata": {}
                }
            ],
            "execution_count": 76
        },
        {
            "cell_type": "markdown",
            "source": [
                "Median when we have even elements"
            ],
            "metadata": {
                "azdata_cell_guid": "5b2df509-7803-4fc4-92b3-95466fafede6"
            }
        },
        {
            "cell_type": "code",
            "source": [
                "select * from peso_median();"
            ],
            "metadata": {
                "azdata_cell_guid": "6612571d-341f-4094-94af-eef605406860"
            },
            "outputs": [
                {
                    "output_type": "display_data",
                    "data": {
                        "text/html": "(1 row(s) affected)"
                    },
                    "metadata": {}
                },
                {
                    "output_type": "display_data",
                    "data": {
                        "text/html": "Total execution time: 00:00:00.010"
                    },
                    "metadata": {}
                },
                {
                    "output_type": "execute_result",
                    "metadata": {},
                    "execution_count": 77,
                    "data": {
                        "application/vnd.dataresource+json": {
                            "schema": {
                                "fields": [
                                    {
                                        "name": "peso_median"
                                    }
                                ]
                            },
                            "data": [
                                {
                                    "0": "17.5"
                                }
                            ]
                        },
                        "text/html": [
                            "<table>",
                            "<tr><th>peso_median</th></tr>",
                            "<tr><td>17.5</td></tr>",
                            "</table>"
                        ]
                    }
                }
            ],
            "execution_count": 77
        },
        {
            "cell_type": "markdown",
            "source": [
                "Median when we have odd elements"
            ],
            "metadata": {
                "azdata_cell_guid": "b05ab3f6-2945-4c8a-886d-fc0337dede67"
            }
        },
        {
            "cell_type": "code",
            "source": [
                "truncate MY_EXPERIMENT;\n",
                "\n",
                "insert into MY_EXPERIMENT(price) values (30);\n",
                "insert into MY_EXPERIMENT(price) values (10);\n",
                "insert into MY_EXPERIMENT(price) values (20);\n",
                "insert into MY_EXPERIMENT(price) values (10);\n",
                "insert into MY_EXPERIMENT(price) values (30);\n",
                "\n",
                "select * from peso_median();"
            ],
            "metadata": {
                "azdata_cell_guid": "8bbf7803-309d-4166-ad0c-8cf044828854"
            },
            "outputs": [
                {
                    "output_type": "display_data",
                    "data": {
                        "text/html": "Commands completed successfully"
                    },
                    "metadata": {}
                },
                {
                    "output_type": "display_data",
                    "data": {
                        "text/html": "Commands completed successfully"
                    },
                    "metadata": {}
                },
                {
                    "output_type": "display_data",
                    "data": {
                        "text/html": "Commands completed successfully"
                    },
                    "metadata": {}
                },
                {
                    "output_type": "display_data",
                    "data": {
                        "text/html": "Commands completed successfully"
                    },
                    "metadata": {}
                },
                {
                    "output_type": "display_data",
                    "data": {
                        "text/html": "Commands completed successfully"
                    },
                    "metadata": {}
                },
                {
                    "output_type": "display_data",
                    "data": {
                        "text/html": "Commands completed successfully"
                    },
                    "metadata": {}
                },
                {
                    "output_type": "display_data",
                    "data": {
                        "text/html": "(1 row(s) affected)"
                    },
                    "metadata": {}
                },
                {
                    "output_type": "display_data",
                    "data": {
                        "text/html": "Total execution time: 00:00:00.018"
                    },
                    "metadata": {}
                },
                {
                    "output_type": "execute_result",
                    "metadata": {},
                    "execution_count": 78,
                    "data": {
                        "application/vnd.dataresource+json": {
                            "schema": {
                                "fields": [
                                    {
                                        "name": "peso_median"
                                    }
                                ]
                            },
                            "data": [
                                {
                                    "0": "20.0"
                                }
                            ]
                        },
                        "text/html": [
                            "<table>",
                            "<tr><th>peso_median</th></tr>",
                            "<tr><td>20.0</td></tr>",
                            "</table>"
                        ]
                    }
                }
            ],
            "execution_count": 78
        },
        {
            "cell_type": "markdown",
            "source": [
                "Peso calculation (https://weblogs.sqlteam.com/peterl/2009/09/16/median-and-weighted-median/)"
            ],
            "metadata": {
                "azdata_cell_guid": "01550c54-fa6b-4325-b241-204b71516de0"
            }
        },
        {
            "cell_type": "code",
            "source": [
                "truncate MY_EXPERIMENT;\n",
                "\n",
                "insert into MY_EXPERIMENT(price) values (30);\n",
                "insert into MY_EXPERIMENT(price) values (10);\n",
                "insert into MY_EXPERIMENT(price) values (20);\n",
                "insert into MY_EXPERIMENT(price) values (10);\n",
                "insert into MY_EXPERIMENT(price) values (30);\n",
                "insert into MY_EXPERIMENT(price) values (30);\n",
                "\n",
                "select * from MY_EXPERIMENT;"
            ],
            "metadata": {
                "azdata_cell_guid": "77af0d81-b694-487d-a2d1-ab1a1f67421d"
            },
            "outputs": [
                {
                    "output_type": "display_data",
                    "data": {
                        "text/html": "Commands completed successfully"
                    },
                    "metadata": {}
                },
                {
                    "output_type": "display_data",
                    "data": {
                        "text/html": "Commands completed successfully"
                    },
                    "metadata": {}
                },
                {
                    "output_type": "display_data",
                    "data": {
                        "text/html": "Commands completed successfully"
                    },
                    "metadata": {}
                },
                {
                    "output_type": "display_data",
                    "data": {
                        "text/html": "Commands completed successfully"
                    },
                    "metadata": {}
                },
                {
                    "output_type": "display_data",
                    "data": {
                        "text/html": "Commands completed successfully"
                    },
                    "metadata": {}
                },
                {
                    "output_type": "display_data",
                    "data": {
                        "text/html": "Commands completed successfully"
                    },
                    "metadata": {}
                },
                {
                    "output_type": "display_data",
                    "data": {
                        "text/html": "Commands completed successfully"
                    },
                    "metadata": {}
                },
                {
                    "output_type": "display_data",
                    "data": {
                        "text/html": "(6 row(s) affected)"
                    },
                    "metadata": {}
                },
                {
                    "output_type": "display_data",
                    "data": {
                        "text/html": "Total execution time: 00:00:00.020"
                    },
                    "metadata": {}
                },
                {
                    "output_type": "execute_result",
                    "metadata": {},
                    "execution_count": 79,
                    "data": {
                        "application/vnd.dataresource+json": {
                            "schema": {
                                "fields": [
                                    {
                                        "name": "price"
                                    }
                                ]
                            },
                            "data": [
                                {
                                    "0": "30"
                                },
                                {
                                    "0": "10"
                                },
                                {
                                    "0": "20"
                                },
                                {
                                    "0": "10"
                                },
                                {
                                    "0": "30"
                                },
                                {
                                    "0": "30"
                                }
                            ]
                        },
                        "text/html": [
                            "<table>",
                            "<tr><th>price</th></tr>",
                            "<tr><td>30</td></tr>",
                            "<tr><td>10</td></tr>",
                            "<tr><td>20</td></tr>",
                            "<tr><td>10</td></tr>",
                            "<tr><td>30</td></tr>",
                            "<tr><td>30</td></tr>",
                            "</table>"
                        ]
                    }
                }
            ],
            "execution_count": 79
        },
        {
            "cell_type": "code",
            "source": [
                "-- taken from\n",
                "-- https://weblogs.sqlteam.com/peterl/2009/09/16/median-and-weighted-median/\n",
                "-- best\n",
                "\n",
                "CREATE OR REPLACE FUNCTION peso_occurences_median() RETURNS real AS $$\n",
                "DECLARE my_result real;\n",
                "BEGIN\n",
                "        SELECT  SUM(partition_size_times_price::real) / SUM(partition_cum_size::real) into my_result\n",
                "        FROM    (\n",
                "                SELECT  SUM(price) OVER (PARTITION BY price) AS partition_size_times_price,\n",
                "                        2 * ROW_NUMBER() OVER (ORDER BY price) - COUNT(*) OVER () AS xxx,\n",
                "                        COUNT(*) OVER (PARTITION BY price) AS partition_cum_size\n",
                "                FROM    MY_EXPERIMENT\n",
                "                ) AS d\n",
                "        WHERE   xxx BETWEEN 0 AND 2;\n",
                "RETURN my_result;        \n",
                "END;\n",
                "$$ \n",
                "STABLE\n",
                "LANGUAGE plpgsql;\n",
                "\n",
                "select * from peso_occurences_median()"
            ],
            "metadata": {
                "azdata_cell_guid": "053f0751-cbe1-4861-aac1-2ab0b408be03"
            },
            "outputs": [
                {
                    "output_type": "display_data",
                    "data": {
                        "text/html": "Commands completed successfully"
                    },
                    "metadata": {}
                },
                {
                    "output_type": "display_data",
                    "data": {
                        "text/html": "(1 row(s) affected)"
                    },
                    "metadata": {}
                },
                {
                    "output_type": "display_data",
                    "data": {
                        "text/html": "Total execution time: 00:00:00.013"
                    },
                    "metadata": {}
                },
                {
                    "output_type": "execute_result",
                    "metadata": {},
                    "execution_count": 80,
                    "data": {
                        "application/vnd.dataresource+json": {
                            "schema": {
                                "fields": [
                                    {
                                        "name": "peso_occurences_median"
                                    }
                                ]
                            },
                            "data": [
                                {
                                    "0": "27.5"
                                }
                            ]
                        },
                        "text/html": [
                            "<table>",
                            "<tr><th>peso_occurences_median</th></tr>",
                            "<tr><td>27.5</td></tr>",
                            "</table>"
                        ]
                    }
                }
            ],
            "execution_count": 80
        },
        {
            "cell_type": "markdown",
            "source": [
                "<span style=\"color: rgb(0, 0, 0); font-family: -apple-system, BlinkMacSystemFont, sans-serif;\">The peso median now fails completely misarbly. not as good as he claims huh?</span>"
            ],
            "metadata": {
                "azdata_cell_guid": "d6f34e6c-5f36-4cf6-9e38-f2eca3c20953"
            }
        },
        {
            "cell_type": "code",
            "source": [
                "select * from peso_median()"
            ],
            "metadata": {
                "azdata_cell_guid": "5ddb4953-ff61-4ef4-91b3-370dc033001e"
            },
            "outputs": [
                {
                    "output_type": "display_data",
                    "data": {
                        "text/html": "(1 row(s) affected)"
                    },
                    "metadata": {}
                },
                {
                    "output_type": "display_data",
                    "data": {
                        "text/html": "Total execution time: 00:00:00.010"
                    },
                    "metadata": {}
                },
                {
                    "output_type": "execute_result",
                    "metadata": {},
                    "execution_count": 81,
                    "data": {
                        "application/vnd.dataresource+json": {
                            "schema": {
                                "fields": [
                                    {
                                        "name": "peso_median"
                                    }
                                ]
                            },
                            "data": [
                                {
                                    "0": "25.0"
                                }
                            ]
                        },
                        "text/html": [
                            "<table>",
                            "<tr><th>peso_median</th></tr>",
                            "<tr><td>25.0</td></tr>",
                            "</table>"
                        ]
                    }
                }
            ],
            "execution_count": 81
        },
        {
            "cell_type": "markdown",
            "source": [
                "For comparison the nearest\\_rank"
            ],
            "metadata": {
                "azdata_cell_guid": "3d7dcfa8-0988-4759-8e1c-ece679f7fb37"
            }
        },
        {
            "cell_type": "code",
            "source": [
                "select * from nearest_rank(0.5)"
            ],
            "metadata": {
                "azdata_cell_guid": "4a8576b7-a89d-496c-9098-48a8fea4a781"
            },
            "outputs": [
                {
                    "output_type": "display_data",
                    "data": {
                        "text/html": "(1 row(s) affected)"
                    },
                    "metadata": {}
                },
                {
                    "output_type": "display_data",
                    "data": {
                        "text/html": "Total execution time: 00:00:00.011"
                    },
                    "metadata": {}
                },
                {
                    "output_type": "execute_result",
                    "metadata": {},
                    "execution_count": 82,
                    "data": {
                        "application/vnd.dataresource+json": {
                            "schema": {
                                "fields": [
                                    {
                                        "name": "nearest_rank"
                                    }
                                ]
                            },
                            "data": [
                                {
                                    "0": "20.0"
                                }
                            ]
                        },
                        "text/html": [
                            "<table>",
                            "<tr><th>nearest_rank</th></tr>",
                            "<tr><td>20.0</td></tr>",
                            "</table>"
                        ]
                    }
                }
            ],
            "execution_count": 82
        },
        {
            "cell_type": "markdown",
            "source": [
                "Weighted nearest rank for the occurence table. Hopefully they are the same."
            ],
            "metadata": {
                "azdata_cell_guid": "a3697a9d-d97e-4e1f-adcc-f07a3834d482"
            }
        },
        {
            "cell_type": "code",
            "source": [
                "DROP TABLE IF EXISTS MY_OCCURENCES_EXPERIMENT;\n",
                "\n",
                "CREATE TABLE MY_OCCURENCES_EXPERIMENT AS (\n",
                "\n",
                "select price, count(*) as occurences from MY_EXPERIMENT\n",
                "\n",
                "group by price\n",
                "\n",
                ");\n",
                "\n",
                "select * FROM MY_occurences_EXPERIMENT;"
            ],
            "metadata": {
                "azdata_cell_guid": "2467158c-4a09-4058-a620-6d38472571d3"
            },
            "outputs": [
                {
                    "output_type": "display_data",
                    "data": {
                        "text/html": "Commands completed successfully"
                    },
                    "metadata": {}
                },
                {
                    "output_type": "display_data",
                    "data": {
                        "text/html": "Commands completed successfully"
                    },
                    "metadata": {}
                },
                {
                    "output_type": "display_data",
                    "data": {
                        "text/html": "(3 row(s) affected)"
                    },
                    "metadata": {}
                },
                {
                    "output_type": "display_data",
                    "data": {
                        "text/html": "Total execution time: 00:00:00.014"
                    },
                    "metadata": {}
                },
                {
                    "output_type": "execute_result",
                    "metadata": {},
                    "execution_count": 83,
                    "data": {
                        "application/vnd.dataresource+json": {
                            "schema": {
                                "fields": [
                                    {
                                        "name": "price"
                                    },
                                    {
                                        "name": "occurences"
                                    }
                                ]
                            },
                            "data": [
                                {
                                    "0": "30",
                                    "1": "3"
                                },
                                {
                                    "0": "10",
                                    "1": "2"
                                },
                                {
                                    "0": "20",
                                    "1": "1"
                                }
                            ]
                        },
                        "text/html": [
                            "<table>",
                            "<tr><th>price</th><th>occurences</th></tr>",
                            "<tr><td>30</td><td>3</td></tr>",
                            "<tr><td>10</td><td>2</td></tr>",
                            "<tr><td>20</td><td>1</td></tr>",
                            "</table>"
                        ]
                    }
                }
            ],
            "execution_count": 83
        },
        {
            "cell_type": "code",
            "source": [
                "select price from (\n",
                " select price, ( (count(*) over (ORDER BY price asc))::real / (count(*) over ()) ) as xxx from my_occurences_experiment\n",
                ") f where xxx >= 0.5 limit 1;"
            ],
            "metadata": {
                "azdata_cell_guid": "65d3c106-667e-4ad6-abe4-5cdb78a9760b",
                "tags": []
            },
            "outputs": [
                {
                    "output_type": "display_data",
                    "data": {
                        "text/html": "(1 row(s) affected)"
                    },
                    "metadata": {}
                },
                {
                    "output_type": "display_data",
                    "data": {
                        "text/html": "Total execution time: 00:00:00.008"
                    },
                    "metadata": {}
                },
                {
                    "output_type": "execute_result",
                    "metadata": {},
                    "execution_count": 84,
                    "data": {
                        "application/vnd.dataresource+json": {
                            "schema": {
                                "fields": [
                                    {
                                        "name": "price"
                                    }
                                ]
                            },
                            "data": [
                                {
                                    "0": "20"
                                }
                            ]
                        },
                        "text/html": [
                            "<table>",
                            "<tr><th>price</th></tr>",
                            "<tr><td>20</td></tr>",
                            "</table>"
                        ]
                    }
                }
            ],
            "execution_count": 84
        },
        {
            "cell_type": "markdown",
            "source": [
                "See how they are the sme. We are on the right track."
            ],
            "metadata": {
                "azdata_cell_guid": "0dd63754-8ab8-41ce-a94b-98e092d6dcaf"
            }
        },
        {
            "cell_type": "markdown",
            "source": [
                "Weighted experiment"
            ],
            "metadata": {
                "azdata_cell_guid": "a16613a2-233a-4ede-86fd-52adcb5c12b2"
            }
        },
        {
            "cell_type": "code",
            "source": [
                "DROP TABLE IF EXISTS MY_WEIGHTED_EXPERIMENT;\n",
                "\n",
                "CREATE TABLE MY_WEIGHTED_EXPERIMENT (\n",
                "    price REAL,\n",
                "    units REAL\n",
                ");\n",
                "\n",
                "insert into MY_WEIGHTED_EXPERIMENT(price, units) values (30.5, 5);\n",
                "insert into MY_WEIGHTED_EXPERIMENT(price, units) values (10.5, 20);\n",
                "insert into MY_WEIGHTED_EXPERIMENT(price, units) values (20.5, 10);\n",
                "insert into MY_WEIGHTED_EXPERIMENT(price, units) values (10.5, 20);\n",
                "insert into MY_WEIGHTED_EXPERIMENT(price, units) values (30.5, 5);\n",
                "\n",
                "select * FROM MY_WEIGHTED_EXPERIMENT;"
            ],
            "metadata": {
                "azdata_cell_guid": "91167cf2-923e-430a-b628-75ce88af38f2",
                "tags": []
            },
            "outputs": [
                {
                    "output_type": "display_data",
                    "data": {
                        "text/html": "Commands completed successfully"
                    },
                    "metadata": {}
                },
                {
                    "output_type": "display_data",
                    "data": {
                        "text/html": "Commands completed successfully"
                    },
                    "metadata": {}
                },
                {
                    "output_type": "display_data",
                    "data": {
                        "text/html": "Commands completed successfully"
                    },
                    "metadata": {}
                },
                {
                    "output_type": "display_data",
                    "data": {
                        "text/html": "Commands completed successfully"
                    },
                    "metadata": {}
                },
                {
                    "output_type": "display_data",
                    "data": {
                        "text/html": "Commands completed successfully"
                    },
                    "metadata": {}
                },
                {
                    "output_type": "display_data",
                    "data": {
                        "text/html": "Commands completed successfully"
                    },
                    "metadata": {}
                },
                {
                    "output_type": "display_data",
                    "data": {
                        "text/html": "Commands completed successfully"
                    },
                    "metadata": {}
                },
                {
                    "output_type": "display_data",
                    "data": {
                        "text/html": "(5 row(s) affected)"
                    },
                    "metadata": {}
                },
                {
                    "output_type": "display_data",
                    "data": {
                        "text/html": "Total execution time: 00:00:00.027"
                    },
                    "metadata": {}
                },
                {
                    "output_type": "execute_result",
                    "metadata": {},
                    "execution_count": 87,
                    "data": {
                        "application/vnd.dataresource+json": {
                            "schema": {
                                "fields": [
                                    {
                                        "name": "price"
                                    },
                                    {
                                        "name": "units"
                                    }
                                ]
                            },
                            "data": [
                                {
                                    "0": "30.5",
                                    "1": "5.0"
                                },
                                {
                                    "0": "10.5",
                                    "1": "20.0"
                                },
                                {
                                    "0": "20.5",
                                    "1": "10.0"
                                },
                                {
                                    "0": "10.5",
                                    "1": "20.0"
                                },
                                {
                                    "0": "30.5",
                                    "1": "5.0"
                                }
                            ]
                        },
                        "text/html": [
                            "<table>",
                            "<tr><th>price</th><th>units</th></tr>",
                            "<tr><td>30.5</td><td>5.0</td></tr>",
                            "<tr><td>10.5</td><td>20.0</td></tr>",
                            "<tr><td>20.5</td><td>10.0</td></tr>",
                            "<tr><td>10.5</td><td>20.0</td></tr>",
                            "<tr><td>30.5</td><td>5.0</td></tr>",
                            "</table>"
                        ]
                    }
                }
            ],
            "execution_count": 87
        },
        {
            "cell_type": "markdown",
            "source": [
                "Closest rank for weighted"
            ],
            "metadata": {
                "azdata_cell_guid": "638e62ff-2656-4c0d-ab6c-71ade9d0e488"
            }
        },
        {
            "cell_type": "code",
            "source": [
                "drop function my_weighted_nearest_rank;\n",
                "CREATE OR REPLACE FUNCTION my_weighted_nearest_rank(threshold FLOAT) RETURNS real AS $$\n",
                "DECLARE my_result real;\n",
                "BEGIN\n",
                "select price into my_result from (\n",
                " select price, units, (sum(units) over (ORDER BY price asc) / sum(units) over () ) as xxx from MY_WEIGHTED_EXPERIMENT\n",
                ") f where xxx >= threshold limit 1;\n",
                "RETURN my_result;        \n",
                "END;\n",
                "$$ \n",
                "STABLE\n",
                "LANGUAGE plpgsql;"
            ],
            "metadata": {
                "azdata_cell_guid": "81819a57-09ad-4f76-bbc6-e74b8c25d387"
            },
            "outputs": [
                {
                    "output_type": "display_data",
                    "data": {
                        "text/html": "Commands completed successfully"
                    },
                    "metadata": {}
                },
                {
                    "output_type": "display_data",
                    "data": {
                        "text/html": "Commands completed successfully"
                    },
                    "metadata": {}
                },
                {
                    "output_type": "display_data",
                    "data": {
                        "text/html": "Total execution time: 00:00:00.006"
                    },
                    "metadata": {}
                }
            ],
            "execution_count": 90
        },
        {
            "cell_type": "code",
            "source": [
                "select * from my_weighted_nearest_rank(0.75);"
            ],
            "metadata": {
                "azdata_cell_guid": "bb5c7e18-68a1-451e-940e-d8cb7dad51f7"
            },
            "outputs": [
                {
                    "output_type": "display_data",
                    "data": {
                        "text/html": "(1 row(s) affected)"
                    },
                    "metadata": {}
                },
                {
                    "output_type": "display_data",
                    "data": {
                        "text/html": "Total execution time: 00:00:00.012"
                    },
                    "metadata": {}
                },
                {
                    "output_type": "execute_result",
                    "metadata": {},
                    "execution_count": 91,
                    "data": {
                        "application/vnd.dataresource+json": {
                            "schema": {
                                "fields": [
                                    {
                                        "name": "my_weighted_nearest_rank"
                                    }
                                ]
                            },
                            "data": [
                                {
                                    "0": "20.5"
                                }
                            ]
                        },
                        "text/html": [
                            "<table>",
                            "<tr><th>my_weighted_nearest_rank</th></tr>",
                            "<tr><td>20.5</td></tr>",
                            "</table>"
                        ]
                    }
                }
            ],
            "execution_count": 91
        },
        {
            "cell_type": "markdown",
            "source": [
                "Partitioned example"
            ],
            "metadata": {
                "azdata_cell_guid": "45a8216f-f1d3-41dc-b507-4f6658ece28b"
            }
        },
        {
            "cell_type": "code",
            "source": [
                "-- inspired from\n",
                "-- https://stackoverflow.com/questions/49077403/postgres-arg-min-in-a-group-by\n",
                "-- \n",
                "\n",
                "DROP TABLE IF EXISTS MY_PARTITIONED_EXPERIMENT;\n",
                "\n",
                "CREATE TABLE MY_PARTITIONED_EXPERIMENT (\n",
                "    price REAL,\n",
                "    units REAL,\n",
                "    region INT\n",
                ");\n",
                "\n",
                "insert into MY_PARTITIONED_EXPERIMENT(price, units, region) values (30, 5, 1);\n",
                "insert into MY_PARTITIONED_EXPERIMENT(price, units, region) values (10, 20, 1);\n",
                "insert into MY_PARTITIONED_EXPERIMENT(price, units, region) values (20, 10, 1);\n",
                "insert into MY_PARTITIONED_EXPERIMENT(price, units, region) values (10, 20, 1);\n",
                "insert into MY_PARTITIONED_EXPERIMENT(price, units, region) values (30, 5, 1);\n",
                "\n",
                "insert into MY_PARTITIONED_EXPERIMENT(price, units, region) values (300, 10, 2);\n",
                "insert into MY_PARTITIONED_EXPERIMENT(price, units, region) values (100, 200, 2);\n",
                "insert into MY_PARTITIONED_EXPERIMENT(price, units, region) values (200, 100, 2);\n",
                "insert into MY_PARTITIONED_EXPERIMENT(price, units, region) values (100, 200, 2);\n",
                "insert into MY_PARTITIONED_EXPERIMENT(price, units, region) values (300, 50, 2);\n",
                "\n",
                "select * FROM MY_PARTITIONED_EXPERIMENT;\n",
                ""
            ],
            "metadata": {
                "azdata_cell_guid": "fa31b014-350f-4dd2-b6c6-1e24e0d37d90"
            },
            "outputs": [
                {
                    "output_type": "display_data",
                    "data": {
                        "text/html": "Commands completed successfully"
                    },
                    "metadata": {}
                },
                {
                    "output_type": "display_data",
                    "data": {
                        "text/html": "Commands completed successfully"
                    },
                    "metadata": {}
                },
                {
                    "output_type": "display_data",
                    "data": {
                        "text/html": "Commands completed successfully"
                    },
                    "metadata": {}
                },
                {
                    "output_type": "display_data",
                    "data": {
                        "text/html": "Commands completed successfully"
                    },
                    "metadata": {}
                },
                {
                    "output_type": "display_data",
                    "data": {
                        "text/html": "Commands completed successfully"
                    },
                    "metadata": {}
                },
                {
                    "output_type": "display_data",
                    "data": {
                        "text/html": "Commands completed successfully"
                    },
                    "metadata": {}
                },
                {
                    "output_type": "display_data",
                    "data": {
                        "text/html": "Commands completed successfully"
                    },
                    "metadata": {}
                },
                {
                    "output_type": "display_data",
                    "data": {
                        "text/html": "Commands completed successfully"
                    },
                    "metadata": {}
                },
                {
                    "output_type": "display_data",
                    "data": {
                        "text/html": "Commands completed successfully"
                    },
                    "metadata": {}
                },
                {
                    "output_type": "display_data",
                    "data": {
                        "text/html": "Commands completed successfully"
                    },
                    "metadata": {}
                },
                {
                    "output_type": "display_data",
                    "data": {
                        "text/html": "Commands completed successfully"
                    },
                    "metadata": {}
                },
                {
                    "output_type": "display_data",
                    "data": {
                        "text/html": "Commands completed successfully"
                    },
                    "metadata": {}
                },
                {
                    "output_type": "display_data",
                    "data": {
                        "text/html": "(10 row(s) affected)"
                    },
                    "metadata": {}
                },
                {
                    "output_type": "display_data",
                    "data": {
                        "text/html": "Total execution time: 00:00:00.030"
                    },
                    "metadata": {}
                },
                {
                    "output_type": "execute_result",
                    "metadata": {},
                    "execution_count": 67,
                    "data": {
                        "application/vnd.dataresource+json": {
                            "schema": {
                                "fields": [
                                    {
                                        "name": "price"
                                    },
                                    {
                                        "name": "units"
                                    },
                                    {
                                        "name": "region"
                                    }
                                ]
                            },
                            "data": [
                                {
                                    "0": "30.0",
                                    "1": "5.0",
                                    "2": "1"
                                },
                                {
                                    "0": "10.0",
                                    "1": "20.0",
                                    "2": "1"
                                },
                                {
                                    "0": "20.0",
                                    "1": "10.0",
                                    "2": "1"
                                },
                                {
                                    "0": "10.0",
                                    "1": "20.0",
                                    "2": "1"
                                },
                                {
                                    "0": "30.0",
                                    "1": "5.0",
                                    "2": "1"
                                },
                                {
                                    "0": "300.0",
                                    "1": "10.0",
                                    "2": "2"
                                },
                                {
                                    "0": "100.0",
                                    "1": "200.0",
                                    "2": "2"
                                },
                                {
                                    "0": "200.0",
                                    "1": "100.0",
                                    "2": "2"
                                },
                                {
                                    "0": "100.0",
                                    "1": "200.0",
                                    "2": "2"
                                },
                                {
                                    "0": "300.0",
                                    "1": "50.0",
                                    "2": "2"
                                }
                            ]
                        },
                        "text/html": [
                            "<table>",
                            "<tr><th>price</th><th>units</th><th>region</th></tr>",
                            "<tr><td>30.0</td><td>5.0</td><td>1</td></tr>",
                            "<tr><td>10.0</td><td>20.0</td><td>1</td></tr>",
                            "<tr><td>20.0</td><td>10.0</td><td>1</td></tr>",
                            "<tr><td>10.0</td><td>20.0</td><td>1</td></tr>",
                            "<tr><td>30.0</td><td>5.0</td><td>1</td></tr>",
                            "<tr><td>300.0</td><td>10.0</td><td>2</td></tr>",
                            "<tr><td>100.0</td><td>200.0</td><td>2</td></tr>",
                            "<tr><td>200.0</td><td>100.0</td><td>2</td></tr>",
                            "<tr><td>100.0</td><td>200.0</td><td>2</td></tr>",
                            "<tr><td>300.0</td><td>50.0</td><td>2</td></tr>",
                            "</table>"
                        ]
                    }
                }
            ],
            "execution_count": 67
        },
        {
            "cell_type": "markdown",
            "source": [
                "Selections based on partitions and threshold 0.7"
            ],
            "metadata": {
                "azdata_cell_guid": "127c390d-2c73-4683-b9da-f5c9b96f4580"
            }
        },
        {
            "cell_type": "code",
            "source": [
                "drop function my_partitioned_weighted_nearest_rank;\n",
                "CREATE OR REPLACE FUNCTION my_partitioned_weighted_nearest_rank(threshold FLOAT) RETURNS TABLE(theregion int, theprice real) \n",
                "AS $$\n",
                "begin\n",
                "    return query \n",
                "        select distinct on (region) region, price\n",
                "        from (\n",
                "            select \n",
                "                price, \n",
                "                units, \n",
                "                region, \n",
                "                (sum(units) over (partition by region order by price asc) / sum(units)  over (partition by region)) as xxx\n",
                "            from MY_PARTITIONED_EXPERIMENT\n",
                "        ) f \n",
                "        where f.xxx >= threshold\n",
                "        order by region;\n",
                "end;\n",
                "$$ \n",
                "STABLE\n",
                "LANGUAGE plpgsql;\n",
                "\n",
                "select * from my_partitioned_weighted_nearest_rank(0.7);"
            ],
            "metadata": {
                "azdata_cell_guid": "1754c5c3-24bb-4c16-9a0a-75bdc0665720"
            },
            "outputs": [
                {
                    "output_type": "display_data",
                    "data": {
                        "text/html": "Commands completed successfully"
                    },
                    "metadata": {}
                },
                {
                    "output_type": "display_data",
                    "data": {
                        "text/html": "Commands completed successfully"
                    },
                    "metadata": {}
                },
                {
                    "output_type": "display_data",
                    "data": {
                        "text/html": "(2 row(s) affected)"
                    },
                    "metadata": {}
                },
                {
                    "output_type": "display_data",
                    "data": {
                        "text/html": "Total execution time: 00:00:00.013"
                    },
                    "metadata": {}
                },
                {
                    "output_type": "execute_result",
                    "metadata": {},
                    "execution_count": 68,
                    "data": {
                        "application/vnd.dataresource+json": {
                            "schema": {
                                "fields": [
                                    {
                                        "name": "theregion"
                                    },
                                    {
                                        "name": "theprice"
                                    }
                                ]
                            },
                            "data": [
                                {
                                    "0": "1",
                                    "1": "20.0"
                                },
                                {
                                    "0": "2",
                                    "1": "100.0"
                                }
                            ]
                        },
                        "text/html": [
                            "<table>",
                            "<tr><th>theregion</th><th>theprice</th></tr>",
                            "<tr><td>1</td><td>20.0</td></tr>",
                            "<tr><td>2</td><td>100.0</td></tr>",
                            "</table>"
                        ]
                    }
                }
            ],
            "execution_count": 68
        },
        {
            "cell_type": "markdown",
            "source": [
                "Verification"
            ],
            "metadata": {
                "azdata_cell_guid": "3c5414b5-f76e-4a1c-86ab-f531b098c061"
            }
        },
        {
            "cell_type": "code",
            "source": [
                "truncate my_weighted_experiment;\n",
                "\n",
                "insert into my_weighted_experiment\n",
                "select price, units from my_partitioned_experiment\n",
                "where region = 1;\n",
                "\n",
                "select * from my_weighted_nearest_rank(0.7);"
            ],
            "metadata": {
                "azdata_cell_guid": "c3804fdb-24c4-4342-b2b5-6d6c424006ab"
            },
            "outputs": [
                {
                    "output_type": "display_data",
                    "data": {
                        "text/html": "Commands completed successfully"
                    },
                    "metadata": {}
                },
                {
                    "output_type": "display_data",
                    "data": {
                        "text/html": "Commands completed successfully"
                    },
                    "metadata": {}
                },
                {
                    "output_type": "display_data",
                    "data": {
                        "text/html": "(1 row(s) affected)"
                    },
                    "metadata": {}
                },
                {
                    "output_type": "display_data",
                    "data": {
                        "text/html": "Total execution time: 00:00:00.028"
                    },
                    "metadata": {}
                },
                {
                    "output_type": "execute_result",
                    "metadata": {},
                    "execution_count": 69,
                    "data": {
                        "application/vnd.dataresource+json": {
                            "schema": {
                                "fields": [
                                    {
                                        "name": "my_weighted_nearest_rank"
                                    }
                                ]
                            },
                            "data": [
                                {
                                    "0": "20.0"
                                }
                            ]
                        },
                        "text/html": [
                            "<table>",
                            "<tr><th>my_weighted_nearest_rank</th></tr>",
                            "<tr><td>20.0</td></tr>",
                            "</table>"
                        ]
                    }
                }
            ],
            "execution_count": 69
        },
        {
            "cell_type": "code",
            "source": [
                "truncate my_weighted_experiment;\n",
                "\n",
                "insert into my_weighted_experiment\n",
                "select price, units from my_partitioned_experiment\n",
                "where region = 2;\n",
                "\n",
                "select * from my_weighted_nearest_rank(0.7);"
            ],
            "metadata": {
                "azdata_cell_guid": "07b19771-4f47-47e9-aae1-63f689ac4627"
            },
            "outputs": [
                {
                    "output_type": "display_data",
                    "data": {
                        "text/html": "Commands completed successfully"
                    },
                    "metadata": {}
                },
                {
                    "output_type": "display_data",
                    "data": {
                        "text/html": "Commands completed successfully"
                    },
                    "metadata": {}
                },
                {
                    "output_type": "display_data",
                    "data": {
                        "text/html": "(1 row(s) affected)"
                    },
                    "metadata": {}
                },
                {
                    "output_type": "display_data",
                    "data": {
                        "text/html": "Total execution time: 00:00:00.012"
                    },
                    "metadata": {}
                },
                {
                    "output_type": "execute_result",
                    "metadata": {},
                    "execution_count": 70,
                    "data": {
                        "application/vnd.dataresource+json": {
                            "schema": {
                                "fields": [
                                    {
                                        "name": "my_weighted_nearest_rank"
                                    }
                                ]
                            },
                            "data": [
                                {
                                    "0": "100.0"
                                }
                            ]
                        },
                        "text/html": [
                            "<table>",
                            "<tr><th>my_weighted_nearest_rank</th></tr>",
                            "<tr><td>100.0</td></tr>",
                            "</table>"
                        ]
                    }
                }
            ],
            "execution_count": 70
        }
    ]
}